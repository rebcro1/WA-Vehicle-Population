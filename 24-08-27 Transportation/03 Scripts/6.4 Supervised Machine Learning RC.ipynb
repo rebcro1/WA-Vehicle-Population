{
 "cells": [
  {
   "cell_type": "markdown",
   "id": "a784955e",
   "metadata": {},
   "source": [
    "1. Installed scikit-learn library via pip process\n",
    "2. Import libraries and dataframe\n",
    "3. Data cleaning\n",
    "4. Prep data for regression analysis\n",
    "5. Explore data\n",
    "6. Reshape variables\n",
    "7. Split data into training/test\n",
    "8. Run a linear regression\n",
    "9. Create a plot that shows the regression on the test set\n",
    "10. Interpret the fit\n",
    "11. Check the model stats MSE & R2 score\n",
    "12. Compare the predicted y values with actual y values in datatframe\n",
    "13. Document how well the model performed on the test set"
   ]
  },
  {
   "cell_type": "markdown",
   "id": "f8b2d1b5",
   "metadata": {},
   "source": [
    "## 2. Import libraries and dataframes"
   ]
  },
  {
   "cell_type": "code",
   "execution_count": 1,
   "id": "a66c4813",
   "metadata": {},
   "outputs": [],
   "source": [
    "#Import libraries\n",
    "import pandas as pd\n",
    "import numpy as np\n",
    "import seaborn as sns\n",
    "import matplotlib\n",
    "import matplotlib.pyplot as plt\n",
    "import os\n",
    "import sklearn\n",
    "from sklearn.model_selection import train_test_split\n",
    "from sklearn.linear_model import LinearRegression\n",
    "from sklearn.metrics import mean_squared_error, r2_score"
   ]
  },
  {
   "cell_type": "code",
   "execution_count": 2,
   "id": "dd6138e9",
   "metadata": {},
   "outputs": [],
   "source": [
    "#Makes graphs able to be displayed in notebook\n",
    "%matplotlib inline"
   ]
  },
  {
   "cell_type": "code",
   "execution_count": 3,
   "id": "29687ffc",
   "metadata": {},
   "outputs": [],
   "source": [
    "#Define path\n",
    "path = r'C:\\Users\\dodge\\24-08-27 Transportation'"
   ]
  },
  {
   "cell_type": "code",
   "execution_count": 4,
   "id": "977e0bbf",
   "metadata": {},
   "outputs": [],
   "source": [
    "#import dataframe\n",
    "df_cars_4 = pd.read_csv(os.path.join(path, '02 Data', 'Prepared Data', 'cars_State_Names'), index_col = 0)"
   ]
  },
  {
   "cell_type": "code",
   "execution_count": 5,
   "id": "63534932",
   "metadata": {},
   "outputs": [
    {
     "data": {
      "text/html": [
       "<div>\n",
       "<style scoped>\n",
       "    .dataframe tbody tr th:only-of-type {\n",
       "        vertical-align: middle;\n",
       "    }\n",
       "\n",
       "    .dataframe tbody tr th {\n",
       "        vertical-align: top;\n",
       "    }\n",
       "\n",
       "    .dataframe thead th {\n",
       "        text-align: right;\n",
       "    }\n",
       "</style>\n",
       "<table border=\"1\" class=\"dataframe\">\n",
       "  <thead>\n",
       "    <tr style=\"text-align: right;\">\n",
       "      <th></th>\n",
       "      <th>Month_ending</th>\n",
       "      <th>Year</th>\n",
       "      <th>County</th>\n",
       "      <th>State</th>\n",
       "      <th>Primary_use</th>\n",
       "      <th>Battery_BEVs</th>\n",
       "      <th>Hybrid_(PHEVs)</th>\n",
       "      <th>EV_Total</th>\n",
       "      <th>Non-Electric_Total</th>\n",
       "      <th>Total_Veh</th>\n",
       "      <th>%_Electric</th>\n",
       "      <th>Proximity</th>\n",
       "      <th>State_Names</th>\n",
       "    </tr>\n",
       "  </thead>\n",
       "  <tbody>\n",
       "    <tr>\n",
       "      <th>0</th>\n",
       "      <td>April</td>\n",
       "      <td>2017</td>\n",
       "      <td>Pinal</td>\n",
       "      <td>AZ</td>\n",
       "      <td>Passenger</td>\n",
       "      <td>2</td>\n",
       "      <td>0</td>\n",
       "      <td>2</td>\n",
       "      <td>254</td>\n",
       "      <td>256</td>\n",
       "      <td>0.78</td>\n",
       "      <td>Nearest</td>\n",
       "      <td>Arizona</td>\n",
       "    </tr>\n",
       "    <tr>\n",
       "      <th>1</th>\n",
       "      <td>April</td>\n",
       "      <td>2017</td>\n",
       "      <td>Island</td>\n",
       "      <td>WA</td>\n",
       "      <td>Passenger</td>\n",
       "      <td>108</td>\n",
       "      <td>128</td>\n",
       "      <td>236</td>\n",
       "      <td>59768</td>\n",
       "      <td>60004</td>\n",
       "      <td>0.39</td>\n",
       "      <td>Washington</td>\n",
       "      <td>Washington</td>\n",
       "    </tr>\n",
       "    <tr>\n",
       "      <th>2</th>\n",
       "      <td>April</td>\n",
       "      <td>2017</td>\n",
       "      <td>Clark</td>\n",
       "      <td>WA</td>\n",
       "      <td>Truck</td>\n",
       "      <td>0</td>\n",
       "      <td>0</td>\n",
       "      <td>0</td>\n",
       "      <td>77561</td>\n",
       "      <td>77561</td>\n",
       "      <td>0.00</td>\n",
       "      <td>Washington</td>\n",
       "      <td>Washington</td>\n",
       "    </tr>\n",
       "    <tr>\n",
       "      <th>3</th>\n",
       "      <td>April</td>\n",
       "      <td>2017</td>\n",
       "      <td>Allegheny</td>\n",
       "      <td>PA</td>\n",
       "      <td>Passenger</td>\n",
       "      <td>1</td>\n",
       "      <td>0</td>\n",
       "      <td>1</td>\n",
       "      <td>93</td>\n",
       "      <td>94</td>\n",
       "      <td>1.06</td>\n",
       "      <td>Furthest</td>\n",
       "      <td>Pennsylvania</td>\n",
       "    </tr>\n",
       "    <tr>\n",
       "      <th>4</th>\n",
       "      <td>April</td>\n",
       "      <td>2017</td>\n",
       "      <td>Shelby</td>\n",
       "      <td>TN</td>\n",
       "      <td>Passenger</td>\n",
       "      <td>0</td>\n",
       "      <td>1</td>\n",
       "      <td>1</td>\n",
       "      <td>109</td>\n",
       "      <td>110</td>\n",
       "      <td>0.91</td>\n",
       "      <td>Furthest</td>\n",
       "      <td>Tennessee</td>\n",
       "    </tr>\n",
       "    <tr>\n",
       "      <th>5</th>\n",
       "      <td>April</td>\n",
       "      <td>2017</td>\n",
       "      <td>Dale</td>\n",
       "      <td>AL</td>\n",
       "      <td>Passenger</td>\n",
       "      <td>0</td>\n",
       "      <td>1</td>\n",
       "      <td>1</td>\n",
       "      <td>65</td>\n",
       "      <td>66</td>\n",
       "      <td>1.52</td>\n",
       "      <td>Furthest</td>\n",
       "      <td>Alabama</td>\n",
       "    </tr>\n",
       "    <tr>\n",
       "      <th>6</th>\n",
       "      <td>April</td>\n",
       "      <td>2017</td>\n",
       "      <td>Jefferson</td>\n",
       "      <td>WA</td>\n",
       "      <td>Passenger</td>\n",
       "      <td>98</td>\n",
       "      <td>56</td>\n",
       "      <td>154</td>\n",
       "      <td>23744</td>\n",
       "      <td>23898</td>\n",
       "      <td>0.64</td>\n",
       "      <td>Washington</td>\n",
       "      <td>Washington</td>\n",
       "    </tr>\n",
       "    <tr>\n",
       "      <th>8</th>\n",
       "      <td>April</td>\n",
       "      <td>2017</td>\n",
       "      <td>Harnett</td>\n",
       "      <td>NC</td>\n",
       "      <td>Passenger</td>\n",
       "      <td>1</td>\n",
       "      <td>0</td>\n",
       "      <td>1</td>\n",
       "      <td>257</td>\n",
       "      <td>258</td>\n",
       "      <td>0.39</td>\n",
       "      <td>Furthest</td>\n",
       "      <td>North Carolina</td>\n",
       "    </tr>\n",
       "    <tr>\n",
       "      <th>9</th>\n",
       "      <td>April</td>\n",
       "      <td>2017</td>\n",
       "      <td>Salt Lake</td>\n",
       "      <td>UT</td>\n",
       "      <td>Passenger</td>\n",
       "      <td>0</td>\n",
       "      <td>1</td>\n",
       "      <td>1</td>\n",
       "      <td>289</td>\n",
       "      <td>290</td>\n",
       "      <td>0.34</td>\n",
       "      <td>Nearest</td>\n",
       "      <td>Utah</td>\n",
       "    </tr>\n",
       "    <tr>\n",
       "      <th>10</th>\n",
       "      <td>April</td>\n",
       "      <td>2017</td>\n",
       "      <td>Yakima</td>\n",
       "      <td>WA</td>\n",
       "      <td>Truck</td>\n",
       "      <td>0</td>\n",
       "      <td>0</td>\n",
       "      <td>0</td>\n",
       "      <td>57219</td>\n",
       "      <td>57219</td>\n",
       "      <td>0.00</td>\n",
       "      <td>Washington</td>\n",
       "      <td>Washington</td>\n",
       "    </tr>\n",
       "  </tbody>\n",
       "</table>\n",
       "</div>"
      ],
      "text/plain": [
       "   Month_ending  Year     County State Primary_use  Battery_BEVs  \\\n",
       "0         April  2017      Pinal    AZ   Passenger             2   \n",
       "1         April  2017     Island    WA   Passenger           108   \n",
       "2         April  2017      Clark    WA       Truck             0   \n",
       "3         April  2017  Allegheny    PA   Passenger             1   \n",
       "4         April  2017     Shelby    TN   Passenger             0   \n",
       "5         April  2017       Dale    AL   Passenger             0   \n",
       "6         April  2017  Jefferson    WA   Passenger            98   \n",
       "8         April  2017    Harnett    NC   Passenger             1   \n",
       "9         April  2017  Salt Lake    UT   Passenger             0   \n",
       "10        April  2017     Yakima    WA       Truck             0   \n",
       "\n",
       "    Hybrid_(PHEVs)  EV_Total  Non-Electric_Total  Total_Veh  %_Electric  \\\n",
       "0                0         2                 254        256        0.78   \n",
       "1              128       236               59768      60004        0.39   \n",
       "2                0         0               77561      77561        0.00   \n",
       "3                0         1                  93         94        1.06   \n",
       "4                1         1                 109        110        0.91   \n",
       "5                1         1                  65         66        1.52   \n",
       "6               56       154               23744      23898        0.64   \n",
       "8                0         1                 257        258        0.39   \n",
       "9                1         1                 289        290        0.34   \n",
       "10               0         0               57219      57219        0.00   \n",
       "\n",
       "     Proximity     State_Names  \n",
       "0      Nearest         Arizona  \n",
       "1   Washington      Washington  \n",
       "2   Washington      Washington  \n",
       "3     Furthest    Pennsylvania  \n",
       "4     Furthest       Tennessee  \n",
       "5     Furthest         Alabama  \n",
       "6   Washington      Washington  \n",
       "8     Furthest  North Carolina  \n",
       "9      Nearest            Utah  \n",
       "10  Washington      Washington  "
      ]
     },
     "execution_count": 5,
     "metadata": {},
     "output_type": "execute_result"
    }
   ],
   "source": [
    "df_cars_4.head(10)"
   ]
  },
  {
   "cell_type": "markdown",
   "id": "5c52ba4a",
   "metadata": {},
   "source": [
    "## 3. Data Cleaning"
   ]
  },
  {
   "cell_type": "code",
   "execution_count": 6,
   "id": "98637f0b",
   "metadata": {},
   "outputs": [
    {
     "data": {
      "text/plain": [
       "Index(['Month_ending', 'Year', 'County', 'State', 'Primary_use',\n",
       "       'Battery_BEVs', 'Hybrid_(PHEVs)', 'EV_Total', 'Non-Electric_Total',\n",
       "       'Total_Veh', '%_Electric', 'Proximity', 'State_Names'],\n",
       "      dtype='object')"
      ]
     },
     "execution_count": 6,
     "metadata": {},
     "output_type": "execute_result"
    }
   ],
   "source": [
    "df_cars_4.columns"
   ]
  },
  {
   "cell_type": "code",
   "execution_count": 7,
   "id": "0883bf2f",
   "metadata": {},
   "outputs": [
    {
     "data": {
      "text/plain": [
       "(17886, 13)"
      ]
     },
     "execution_count": 7,
     "metadata": {},
     "output_type": "execute_result"
    }
   ],
   "source": [
    "df_cars_4.shape"
   ]
  },
  {
   "cell_type": "code",
   "execution_count": 8,
   "id": "5ca75519",
   "metadata": {},
   "outputs": [
    {
     "data": {
      "text/plain": [
       "Month_ending          0\n",
       "Year                  0\n",
       "County                0\n",
       "State                 0\n",
       "Primary_use           0\n",
       "Battery_BEVs          0\n",
       "Hybrid_(PHEVs)        0\n",
       "EV_Total              0\n",
       "Non-Electric_Total    0\n",
       "Total_Veh             0\n",
       "%_Electric            0\n",
       "Proximity             0\n",
       "State_Names           0\n",
       "dtype: int64"
      ]
     },
     "execution_count": 8,
     "metadata": {},
     "output_type": "execute_result"
    }
   ],
   "source": [
    "#Check for missing values\n",
    "df_cars_4.isnull().sum()"
   ]
  },
  {
   "cell_type": "code",
   "execution_count": 9,
   "id": "9d313e35",
   "metadata": {},
   "outputs": [],
   "source": [
    "#Check for duplicates\n",
    "dups = df_cars_4.duplicated()"
   ]
  },
  {
   "cell_type": "code",
   "execution_count": 10,
   "id": "150284f5",
   "metadata": {},
   "outputs": [
    {
     "data": {
      "text/plain": [
       "(17886,)"
      ]
     },
     "execution_count": 10,
     "metadata": {},
     "output_type": "execute_result"
    }
   ],
   "source": [
    "dups.shape"
   ]
  },
  {
   "cell_type": "code",
   "execution_count": 11,
   "id": "5450280a",
   "metadata": {},
   "outputs": [],
   "source": [
    "#No missing values or complete duplicates"
   ]
  },
  {
   "cell_type": "code",
   "execution_count": 12,
   "id": "7331101c",
   "metadata": {},
   "outputs": [
    {
     "name": "stderr",
     "output_type": "stream",
     "text": [
      "C:\\Users\\dodge\\AppData\\Local\\Temp\\ipykernel_15900\\3212711703.py:2: UserWarning: \n",
      "\n",
      "`distplot` is a deprecated function and will be removed in seaborn v0.14.0.\n",
      "\n",
      "Please adapt your code to use either `displot` (a figure-level function with\n",
      "similar flexibility) or `histplot` (an axes-level function for histograms).\n",
      "\n",
      "For a guide to updating your code to use the new functions, please see\n",
      "https://gist.github.com/mwaskom/de44147ed2974457ad6372750bbe5751\n",
      "\n",
      "  sns.distplot(df_cars_4['%_Electric'], bins=25)\n"
     ]
    },
    {
     "data": {
      "text/plain": [
       "<Axes: xlabel='%_Electric', ylabel='Density'>"
      ]
     },
     "execution_count": 12,
     "metadata": {},
     "output_type": "execute_result"
    },
    {
     "data": {
      "image/png": "[encoded data removed]",
      "text/plain": [
       "<Figure size 640x480 with 1 Axes>"
      ]
     },
     "metadata": {},
     "output_type": "display_data"
    }
   ],
   "source": [
    "#Check for extreme values\n",
    "sns.distplot(df_cars_4['%_Electric'], bins=25)"
   ]
  },
  {
   "cell_type": "code",
   "execution_count": 13,
   "id": "99d9832f",
   "metadata": {},
   "outputs": [],
   "source": [
    "#Separate dataframe into WA vehicles registered in WA and non-WA vehicles registered in WA to eliminate extremes\n",
    "df_cars_WA = df_cars_4[df_cars_4['Proximity']=='Washington']"
   ]
  },
  {
   "cell_type": "code",
   "execution_count": 14,
   "id": "9b2b798f",
   "metadata": {},
   "outputs": [
    {
     "data": {
      "text/plain": [
       "(6162, 13)"
      ]
     },
     "execution_count": 14,
     "metadata": {},
     "output_type": "execute_result"
    }
   ],
   "source": [
    "df_cars_WA.shape"
   ]
  },
  {
   "cell_type": "code",
   "execution_count": 15,
   "id": "3a295e0e",
   "metadata": {},
   "outputs": [],
   "source": [
    "df_cars_out = df_cars_4[df_cars_4['Proximity']!='Washington']"
   ]
  },
  {
   "cell_type": "code",
   "execution_count": 16,
   "id": "20104cf0",
   "metadata": {},
   "outputs": [
    {
     "data": {
      "text/plain": [
       "(11724, 13)"
      ]
     },
     "execution_count": 16,
     "metadata": {},
     "output_type": "execute_result"
    }
   ],
   "source": [
    "df_cars_out.shape"
   ]
  },
  {
   "cell_type": "code",
   "execution_count": 17,
   "id": "69ecc167",
   "metadata": {},
   "outputs": [
    {
     "name": "stderr",
     "output_type": "stream",
     "text": [
      "C:\\Users\\dodge\\AppData\\Local\\Temp\\ipykernel_15900\\4195969619.py:2: UserWarning: \n",
      "\n",
      "`distplot` is a deprecated function and will be removed in seaborn v0.14.0.\n",
      "\n",
      "Please adapt your code to use either `displot` (a figure-level function with\n",
      "similar flexibility) or `histplot` (an axes-level function for histograms).\n",
      "\n",
      "For a guide to updating your code to use the new functions, please see\n",
      "https://gist.github.com/mwaskom/de44147ed2974457ad6372750bbe5751\n",
      "\n",
      "  sns.distplot(df_cars_WA['%_Electric'], bins=25)\n"
     ]
    },
    {
     "data": {
      "text/plain": [
       "<Axes: xlabel='%_Electric', ylabel='Density'>"
      ]
     },
     "execution_count": 17,
     "metadata": {},
     "output_type": "execute_result"
    },
    {
     "data": {
      "image/png": "[encoded data removed]",
      "text/plain": [
       "<Figure size 640x480 with 1 Axes>"
      ]
     },
     "metadata": {},
     "output_type": "display_data"
    }
   ],
   "source": [
    "#Check for extreme values WA\n",
    "sns.distplot(df_cars_WA['%_Electric'], bins=25)"
   ]
  },
  {
   "cell_type": "code",
   "execution_count": 18,
   "id": "ec5680dc",
   "metadata": {},
   "outputs": [
    {
     "name": "stderr",
     "output_type": "stream",
     "text": [
      "C:\\Users\\dodge\\AppData\\Local\\Temp\\ipykernel_15900\\2761303134.py:2: UserWarning: \n",
      "\n",
      "`distplot` is a deprecated function and will be removed in seaborn v0.14.0.\n",
      "\n",
      "Please adapt your code to use either `displot` (a figure-level function with\n",
      "similar flexibility) or `histplot` (an axes-level function for histograms).\n",
      "\n",
      "For a guide to updating your code to use the new functions, please see\n",
      "https://gist.github.com/mwaskom/de44147ed2974457ad6372750bbe5751\n",
      "\n",
      "  sns.distplot(df_cars_out['%_Electric'], bins=25)\n"
     ]
    },
    {
     "data": {
      "text/plain": [
       "<Axes: xlabel='%_Electric', ylabel='Density'>"
      ]
     },
     "execution_count": 18,
     "metadata": {},
     "output_type": "execute_result"
    },
    {
     "data": {
      "image/png": "[encoded data removed]",
      "text/plain": [
       "<Figure size 640x480 with 1 Axes>"
      ]
     },
     "metadata": {},
     "output_type": "display_data"
    }
   ],
   "source": [
    "#Check for extreme values outside WA\n",
    "sns.distplot(df_cars_out['%_Electric'], bins=25)"
   ]
  },
  {
   "cell_type": "code",
   "execution_count": 19,
   "id": "6efd9316",
   "metadata": {},
   "outputs": [
    {
     "data": {
      "text/plain": [
       "0.3511262577085362"
      ]
     },
     "execution_count": 19,
     "metadata": {},
     "output_type": "execute_result"
    }
   ],
   "source": [
    "# Document mean, median, max for % electric vehicles in WA\n",
    "df_cars_WA['%_Electric'].mean()"
   ]
  },
  {
   "cell_type": "code",
   "execution_count": 20,
   "id": "4b85a795",
   "metadata": {},
   "outputs": [
    {
     "data": {
      "text/plain": [
       "0.07"
      ]
     },
     "execution_count": 20,
     "metadata": {},
     "output_type": "execute_result"
    }
   ],
   "source": [
    "df_cars_WA['%_Electric'].median()"
   ]
  },
  {
   "cell_type": "code",
   "execution_count": 21,
   "id": "1fa4b1bb",
   "metadata": {},
   "outputs": [
    {
     "data": {
      "text/plain": [
       "5.51"
      ]
     },
     "execution_count": 21,
     "metadata": {},
     "output_type": "execute_result"
    }
   ],
   "source": [
    "df_cars_WA['%_Electric'].max()"
   ]
  },
  {
   "cell_type": "code",
   "execution_count": 22,
   "id": "8b338a17",
   "metadata": {},
   "outputs": [
    {
     "data": {
      "text/plain": [
       "5.685663596042306"
      ]
     },
     "execution_count": 22,
     "metadata": {},
     "output_type": "execute_result"
    }
   ],
   "source": [
    "#Document mean, median, max for % electric vehicles outside WA\n",
    "df_cars_out['%_Electric'].mean()"
   ]
  },
  {
   "cell_type": "code",
   "execution_count": 23,
   "id": "135876b3",
   "metadata": {},
   "outputs": [
    {
     "data": {
      "text/plain": [
       "1.84"
      ]
     },
     "execution_count": 23,
     "metadata": {},
     "output_type": "execute_result"
    }
   ],
   "source": [
    "df_cars_out['%_Electric'].median()"
   ]
  },
  {
   "cell_type": "code",
   "execution_count": 24,
   "id": "f3e715bc",
   "metadata": {},
   "outputs": [
    {
     "data": {
      "text/plain": [
       "100.0"
      ]
     },
     "execution_count": 24,
     "metadata": {},
     "output_type": "execute_result"
    }
   ],
   "source": [
    "df_cars_out['%_Electric'].max()"
   ]
  },
  {
   "cell_type": "markdown",
   "id": "4612d4c3",
   "metadata": {},
   "source": [
    "I think context is important; these do not represent all the registered vehicles in an area outside of WA, only the registered vehicles in WA where the registered owner has a home address in that outside state."
   ]
  },
  {
   "cell_type": "markdown",
   "id": "973708cd",
   "metadata": {},
   "source": [
    "### 4. Prep data for regression analysis"
   ]
  },
  {
   "cell_type": "code",
   "execution_count": 25,
   "id": "28694c47",
   "metadata": {},
   "outputs": [
    {
     "data": {
      "image/png": "[encoded data removed]",
      "text/plain": [
       "<Figure size 640x480 with 1 Axes>"
      ]
     },
     "metadata": {},
     "output_type": "display_data"
    }
   ],
   "source": [
    "# Create a scatterplot using matplotlib to look at WA vehicles % Electric to Total Vehciles\n",
    "\n",
    "df_cars_WA.plot(x = 'Total_Veh', y = '%_Electric', style = 'o')\n",
    "plt.title('% Electric vehicles to total # of Vehicles')\n",
    "plt.xlabel('Total Vehicles')\n",
    "plt.ylabel('Percent Electric')\n",
    "plt.show()"
   ]
  },
  {
   "cell_type": "code",
   "execution_count": 26,
   "id": "0e3eb96f",
   "metadata": {},
   "outputs": [
    {
     "data": {
      "image/png": "[encoded data removed]",
      "text/plain": [
       "<Figure size 640x480 with 1 Axes>"
      ]
     },
     "metadata": {},
     "output_type": "display_data"
    }
   ],
   "source": [
    "#Create a scatterplot using matplotlib to look at %EV in WA over the years\n",
    "\n",
    "df_cars_WA.plot(x = 'Year', y = '%_Electric', style = 'o')\n",
    "plt.title('% Electric vehicles in WA over 6-year span')\n",
    "plt.xlabel('Year')\n",
    "plt.ylabel('Percent Electric')\n",
    "plt.show()"
   ]
  },
  {
   "cell_type": "markdown",
   "id": "d1438d94",
   "metadata": {},
   "source": [
    "### 5. Hypothesis:  % electric vehicles are replacing non-electric vehicles, so the percentage will go up while the number of total vehicles flattens."
   ]
  },
  {
   "cell_type": "markdown",
   "id": "a0cfccc1",
   "metadata": {},
   "source": [
    "### 6. Reshape the variables"
   ]
  },
  {
   "cell_type": "markdown",
   "id": "e3ba5aac",
   "metadata": {},
   "source": [
    "#Reshape the variables into NumPy arrays and put them into separate objects\n",
    "\n",
    "X = df_cars_WA['Total_Veh'].values.reshape(-1,1)\n",
    "y = df_cars_WA['%_Electric'].values.reshape(-1,1)"
   ]
  },
  {
   "cell_type": "code",
   "execution_count": 27,
   "id": "dd1b42b3",
   "metadata": {},
   "outputs": [],
   "source": [
    "#Reshape the variables into NumPy arrays and put them into separate objects\n",
    "\n",
    "X = df_cars_WA['Total_Veh'].values.reshape(-1,1)\n",
    "y = df_cars_WA['%_Electric'].values.reshape(-1,1)"
   ]
  },
  {
   "cell_type": "code",
   "execution_count": 28,
   "id": "34c51968",
   "metadata": {},
   "outputs": [
    {
     "data": {
      "text/plain": [
       "array([[60004],\n",
       "       [77561],\n",
       "       [23898],\n",
       "       ...,\n",
       "       [ 3908],\n",
       "       [ 4426],\n",
       "       [47468]], dtype=int64)"
      ]
     },
     "execution_count": 28,
     "metadata": {},
     "output_type": "execute_result"
    }
   ],
   "source": [
    "X"
   ]
  },
  {
   "cell_type": "code",
   "execution_count": 29,
   "id": "591f3483",
   "metadata": {},
   "outputs": [
    {
     "data": {
      "text/plain": [
       "array([[0.39],\n",
       "       [0.  ],\n",
       "       [0.64],\n",
       "       ...,\n",
       "       [0.  ],\n",
       "       [0.59],\n",
       "       [1.09]])"
      ]
     },
     "execution_count": 29,
     "metadata": {},
     "output_type": "execute_result"
    }
   ],
   "source": [
    "y"
   ]
  },
  {
   "cell_type": "markdown",
   "id": "1b435799",
   "metadata": {},
   "source": [
    "### 7. Split data into training/test"
   ]
  },
  {
   "cell_type": "code",
   "execution_count": 30,
   "id": "0207d61a",
   "metadata": {},
   "outputs": [],
   "source": [
    "#Split the data into training set and a test set\n",
    "\n",
    "X_train, X_test, y_train, y_test = train_test_split(X, y, test_size=0.3, random_state=0)"
   ]
  },
  {
   "cell_type": "markdown",
   "id": "6f5dfb27",
   "metadata": {},
   "source": [
    "### 8. Run a linear regression"
   ]
  },
  {
   "cell_type": "code",
   "execution_count": 31,
   "id": "507eef4e",
   "metadata": {},
   "outputs": [],
   "source": [
    "#Create a regression object to be fit onto the training set\n",
    "regression = LinearRegression()"
   ]
  },
  {
   "cell_type": "code",
   "execution_count": 32,
   "id": "fb264fed",
   "metadata": {},
   "outputs": [
    {
     "data": {
      "text/html": [
       "<style>#sk-container-id-1 {color: black;background-color: white;}#sk-container-id-1 pre{padding: 0;}#sk-container-id-1 div.sk-toggleable {background-color: white;}#sk-container-id-1 label.sk-toggleable__label {cursor: pointer;display: block;width: 100%;margin-bottom: 0;padding: 0.3em;box-sizing: border-box;text-align: center;}#sk-container-id-1 label.sk-toggleable__label-arrow:before {content: \"▸\";float: left;margin-right: 0.25em;color: #696969;}#sk-container-id-1 label.sk-toggleable__label-arrow:hover:before {color: black;}#sk-container-id-1 div.sk-estimator:hover label.sk-toggleable__label-arrow:before {color: black;}#sk-container-id-1 div.sk-toggleable__content {max-height: 0;max-width: 0;overflow: hidden;text-align: left;background-color: #f0f8ff;}#sk-container-id-1 div.sk-toggleable__content pre {margin: 0.2em;color: black;border-radius: 0.25em;background-color: #f0f8ff;}#sk-container-id-1 input.sk-toggleable__control:checked~div.sk-toggleable__content {max-height: 200px;max-width: 100%;overflow: auto;}#sk-container-id-1 input.sk-toggleable__control:checked~label.sk-toggleable__label-arrow:before {content: \"▾\";}#sk-container-id-1 div.sk-estimator input.sk-toggleable__control:checked~label.sk-toggleable__label {background-color: #d4ebff;}#sk-container-id-1 div.sk-label input.sk-toggleable__control:checked~label.sk-toggleable__label {background-color: #d4ebff;}#sk-container-id-1 input.sk-hidden--visually {border: 0;clip: rect(1px 1px 1px 1px);clip: rect(1px, 1px, 1px, 1px);height: 1px;margin: -1px;overflow: hidden;padding: 0;position: absolute;width: 1px;}#sk-container-id-1 div.sk-estimator {font-family: monospace;background-color: #f0f8ff;border: 1px dotted black;border-radius: 0.25em;box-sizing: border-box;margin-bottom: 0.5em;}#sk-container-id-1 div.sk-estimator:hover {background-color: #d4ebff;}#sk-container-id-1 div.sk-parallel-item::after {content: \"\";width: 100%;border-bottom: 1px solid gray;flex-grow: 1;}#sk-container-id-1 div.sk-label:hover label.sk-toggleable__label {background-color: #d4ebff;}#sk-container-id-1 div.sk-serial::before {content: \"\";position: absolute;border-left: 1px solid gray;box-sizing: border-box;top: 0;bottom: 0;left: 50%;z-index: 0;}#sk-container-id-1 div.sk-serial {display: flex;flex-direction: column;align-items: center;background-color: white;padding-right: 0.2em;padding-left: 0.2em;position: relative;}#sk-container-id-1 div.sk-item {position: relative;z-index: 1;}#sk-container-id-1 div.sk-parallel {display: flex;align-items: stretch;justify-content: center;background-color: white;position: relative;}#sk-container-id-1 div.sk-item::before, #sk-container-id-1 div.sk-parallel-item::before {content: \"\";position: absolute;border-left: 1px solid gray;box-sizing: border-box;top: 0;bottom: 0;left: 50%;z-index: -1;}#sk-container-id-1 div.sk-parallel-item {display: flex;flex-direction: column;z-index: 1;position: relative;background-color: white;}#sk-container-id-1 div.sk-parallel-item:first-child::after {align-self: flex-end;width: 50%;}#sk-container-id-1 div.sk-parallel-item:last-child::after {align-self: flex-start;width: 50%;}#sk-container-id-1 div.sk-parallel-item:only-child::after {width: 0;}#sk-container-id-1 div.sk-dashed-wrapped {border: 1px dashed gray;margin: 0 0.4em 0.5em 0.4em;box-sizing: border-box;padding-bottom: 0.4em;background-color: white;}#sk-container-id-1 div.sk-label label {font-family: monospace;font-weight: bold;display: inline-block;line-height: 1.2em;}#sk-container-id-1 div.sk-label-container {text-align: center;}#sk-container-id-1 div.sk-container {/* jupyter's `normalize.less` sets `[hidden] { display: none; }` but bootstrap.min.css set `[hidden] { display: none !important; }` so we also need the `!important` here to be able to override the default hidden behavior on the sphinx rendered scikit-learn.org. See: https://github.com/scikit-learn/scikit-learn/issues/21755 */display: inline-block !important;position: relative;}#sk-container-id-1 div.sk-text-repr-fallback {display: none;}</style><div id=\"sk-container-id-1\" class=\"sk-top-container\"><div class=\"sk-text-repr-fallback\"><pre>LinearRegression()</pre><b>In a Jupyter environment, please rerun this cell to show the HTML representation or trust the notebook. <br />On GitHub, the HTML representation is unable to render, please try loading this page with nbviewer.org.</b></div><div class=\"sk-container\" hidden><div class=\"sk-item\"><div class=\"sk-estimator sk-toggleable\"><input class=\"sk-toggleable__control sk-hidden--visually\" id=\"sk-estimator-id-1\" type=\"checkbox\" checked><label for=\"sk-estimator-id-1\" class=\"sk-toggleable__label sk-toggleable__label-arrow\">LinearRegression</label><div class=\"sk-toggleable__content\"><pre>LinearRegression()</pre></div></div></div></div></div>"
      ],
      "text/plain": [
       "LinearRegression()"
      ]
     },
     "execution_count": 32,
     "metadata": {},
     "output_type": "execute_result"
    }
   ],
   "source": [
    "#Fit the regression object onto the training set\n",
    "regression.fit(X_train, y_train)"
   ]
  },
  {
   "cell_type": "code",
   "execution_count": 33,
   "id": "809cab8e",
   "metadata": {},
   "outputs": [],
   "source": [
    "#Predict the values of y using X\n",
    "y_predicted = regression.predict(X_test)"
   ]
  },
  {
   "cell_type": "markdown",
   "id": "5221cc90",
   "metadata": {},
   "source": [
    "### 9. Create a plot that shows the regression line on the test set"
   ]
  },
  {
   "cell_type": "code",
   "execution_count": 34,
   "id": "b3dbb547",
   "metadata": {},
   "outputs": [
    {
     "data": {
      "image/png": "[encoded data removed]",
      "text/plain": [
       "<Figure size 640x480 with 1 Axes>"
      ]
     },
     "metadata": {},
     "output_type": "display_data"
    }
   ],
   "source": [
    "#Create plot that shows the regression line from the model on the test set\n",
    "plot_test = plt\n",
    "plot_test.scatter(X_test, y_test, color='blue', s=15)\n",
    "plot_test.plot(X_test, y_predicted, color='red', linewidth = 3)\n",
    "plot_test.title('Total Vehicles vs %_Electric (Test set)')\n",
    "plot_test.xlabel('Total Vehicles Registered in WA/Live in WA')\n",
    "plot_test.ylabel('% Electric of total vehicles')\n",
    "plot_test.show()"
   ]
  },
  {
   "cell_type": "markdown",
   "id": "6a152a0b",
   "metadata": {},
   "source": [
    "### 10. Write your own interpretation of how well the line appears to fit the data in a markdown cell."
   ]
  },
  {
   "cell_type": "markdown",
   "id": "70aba805",
   "metadata": {},
   "source": [
    "There is a lot of points on the % electric vehicles far away from the line that is showing a positive trend.  It is difficult to see correlations in this data set as all the variables provided are related to each other."
   ]
  },
  {
   "cell_type": "markdown",
   "id": "a1ef148a",
   "metadata": {},
   "source": [
    "### 11. Check the model stats MSE & R2 score"
   ]
  },
  {
   "cell_type": "code",
   "execution_count": 35,
   "id": "4d7f0c84",
   "metadata": {},
   "outputs": [],
   "source": [
    "#Create objects that contain model summary statistics\n",
    "rmse=mean_squared_error(y_test, y_predicted)\n",
    "r2 = r2_score(y_test, y_predicted)"
   ]
  },
  {
   "cell_type": "code",
   "execution_count": 36,
   "id": "a7c2e823",
   "metadata": {},
   "outputs": [
    {
     "name": "stdout",
     "output_type": "stream",
     "text": [
      "Slope:  [[1.63773974e-06]]\n",
      "Mean squared error:  0.28689020129590903\n",
      "R2 score:  0.24499877385479918\n"
     ]
    }
   ],
   "source": [
    "#Print model summar statistics to evaluate the performance of the model\n",
    "print ('Slope: ' , regression.coef_)\n",
    "print('Mean squared error: ' , rmse)\n",
    "print('R2 score: ', r2)"
   ]
  },
  {
   "cell_type": "markdown",
   "id": "9e348ab7",
   "metadata": {},
   "source": [
    "A positive slope (as noted in the graph), so as the Total Vehicles go up, so does the percentage of electric vehicles.  The mean squared error is small indicating a relationship between the two; a strong relationship.  So, as more vehicles are being registered, a greater percentage are electric.  A small R2 score indicates this model is only a 24% fit, which isn't great."
   ]
  },
  {
   "cell_type": "markdown",
   "id": "ebc7f93c",
   "metadata": {},
   "source": [
    "### 12. Compare the predicted y values with the actual y values"
   ]
  },
  {
   "cell_type": "code",
   "execution_count": 37,
   "id": "bd203590",
   "metadata": {},
   "outputs": [
    {
     "data": {
      "text/html": [
       "<div>\n",
       "<style scoped>\n",
       "    .dataframe tbody tr th:only-of-type {\n",
       "        vertical-align: middle;\n",
       "    }\n",
       "\n",
       "    .dataframe tbody tr th {\n",
       "        vertical-align: top;\n",
       "    }\n",
       "\n",
       "    .dataframe thead th {\n",
       "        text-align: right;\n",
       "    }\n",
       "</style>\n",
       "<table border=\"1\" class=\"dataframe\">\n",
       "  <thead>\n",
       "    <tr style=\"text-align: right;\">\n",
       "      <th></th>\n",
       "      <th>Actual</th>\n",
       "      <th>Predicted</th>\n",
       "    </tr>\n",
       "  </thead>\n",
       "  <tbody>\n",
       "    <tr>\n",
       "      <th>0</th>\n",
       "      <td>0.41</td>\n",
       "      <td>0.534096</td>\n",
       "    </tr>\n",
       "    <tr>\n",
       "      <th>1</th>\n",
       "      <td>0.00</td>\n",
       "      <td>0.525245</td>\n",
       "    </tr>\n",
       "    <tr>\n",
       "      <th>2</th>\n",
       "      <td>0.78</td>\n",
       "      <td>0.744529</td>\n",
       "    </tr>\n",
       "    <tr>\n",
       "      <th>3</th>\n",
       "      <td>0.00</td>\n",
       "      <td>0.236060</td>\n",
       "    </tr>\n",
       "    <tr>\n",
       "      <th>4</th>\n",
       "      <td>0.00</td>\n",
       "      <td>0.314766</td>\n",
       "    </tr>\n",
       "    <tr>\n",
       "      <th>5</th>\n",
       "      <td>0.00</td>\n",
       "      <td>0.256369</td>\n",
       "    </tr>\n",
       "    <tr>\n",
       "      <th>6</th>\n",
       "      <td>0.05</td>\n",
       "      <td>0.316450</td>\n",
       "    </tr>\n",
       "    <tr>\n",
       "      <th>7</th>\n",
       "      <td>0.00</td>\n",
       "      <td>0.257260</td>\n",
       "    </tr>\n",
       "    <tr>\n",
       "      <th>8</th>\n",
       "      <td>0.23</td>\n",
       "      <td>0.437705</td>\n",
       "    </tr>\n",
       "    <tr>\n",
       "      <th>9</th>\n",
       "      <td>0.00</td>\n",
       "      <td>0.249815</td>\n",
       "    </tr>\n",
       "    <tr>\n",
       "      <th>10</th>\n",
       "      <td>0.00</td>\n",
       "      <td>0.232281</td>\n",
       "    </tr>\n",
       "    <tr>\n",
       "      <th>11</th>\n",
       "      <td>0.00</td>\n",
       "      <td>0.297963</td>\n",
       "    </tr>\n",
       "    <tr>\n",
       "      <th>12</th>\n",
       "      <td>0.00</td>\n",
       "      <td>0.237468</td>\n",
       "    </tr>\n",
       "    <tr>\n",
       "      <th>13</th>\n",
       "      <td>0.10</td>\n",
       "      <td>0.246910</td>\n",
       "    </tr>\n",
       "    <tr>\n",
       "      <th>14</th>\n",
       "      <td>0.00</td>\n",
       "      <td>0.267863</td>\n",
       "    </tr>\n",
       "    <tr>\n",
       "      <th>15</th>\n",
       "      <td>0.00</td>\n",
       "      <td>0.229368</td>\n",
       "    </tr>\n",
       "    <tr>\n",
       "      <th>16</th>\n",
       "      <td>0.02</td>\n",
       "      <td>0.260205</td>\n",
       "    </tr>\n",
       "    <tr>\n",
       "      <th>17</th>\n",
       "      <td>0.58</td>\n",
       "      <td>0.329070</td>\n",
       "    </tr>\n",
       "    <tr>\n",
       "      <th>18</th>\n",
       "      <td>0.16</td>\n",
       "      <td>0.230483</td>\n",
       "    </tr>\n",
       "    <tr>\n",
       "      <th>19</th>\n",
       "      <td>0.03</td>\n",
       "      <td>0.272018</td>\n",
       "    </tr>\n",
       "    <tr>\n",
       "      <th>20</th>\n",
       "      <td>0.55</td>\n",
       "      <td>0.309483</td>\n",
       "    </tr>\n",
       "    <tr>\n",
       "      <th>21</th>\n",
       "      <td>0.83</td>\n",
       "      <td>0.308864</td>\n",
       "    </tr>\n",
       "    <tr>\n",
       "      <th>22</th>\n",
       "      <td>0.00</td>\n",
       "      <td>0.234930</td>\n",
       "    </tr>\n",
       "    <tr>\n",
       "      <th>23</th>\n",
       "      <td>0.65</td>\n",
       "      <td>0.308106</td>\n",
       "    </tr>\n",
       "    <tr>\n",
       "      <th>24</th>\n",
       "      <td>0.44</td>\n",
       "      <td>0.272604</td>\n",
       "    </tr>\n",
       "    <tr>\n",
       "      <th>25</th>\n",
       "      <td>0.21</td>\n",
       "      <td>0.370001</td>\n",
       "    </tr>\n",
       "    <tr>\n",
       "      <th>26</th>\n",
       "      <td>0.73</td>\n",
       "      <td>0.273405</td>\n",
       "    </tr>\n",
       "    <tr>\n",
       "      <th>27</th>\n",
       "      <td>1.50</td>\n",
       "      <td>0.759946</td>\n",
       "    </tr>\n",
       "    <tr>\n",
       "      <th>28</th>\n",
       "      <td>0.00</td>\n",
       "      <td>0.528129</td>\n",
       "    </tr>\n",
       "    <tr>\n",
       "      <th>29</th>\n",
       "      <td>0.00</td>\n",
       "      <td>0.233873</td>\n",
       "    </tr>\n",
       "  </tbody>\n",
       "</table>\n",
       "</div>"
      ],
      "text/plain": [
       "    Actual  Predicted\n",
       "0     0.41   0.534096\n",
       "1     0.00   0.525245\n",
       "2     0.78   0.744529\n",
       "3     0.00   0.236060\n",
       "4     0.00   0.314766\n",
       "5     0.00   0.256369\n",
       "6     0.05   0.316450\n",
       "7     0.00   0.257260\n",
       "8     0.23   0.437705\n",
       "9     0.00   0.249815\n",
       "10    0.00   0.232281\n",
       "11    0.00   0.297963\n",
       "12    0.00   0.237468\n",
       "13    0.10   0.246910\n",
       "14    0.00   0.267863\n",
       "15    0.00   0.229368\n",
       "16    0.02   0.260205\n",
       "17    0.58   0.329070\n",
       "18    0.16   0.230483\n",
       "19    0.03   0.272018\n",
       "20    0.55   0.309483\n",
       "21    0.83   0.308864\n",
       "22    0.00   0.234930\n",
       "23    0.65   0.308106\n",
       "24    0.44   0.272604\n",
       "25    0.21   0.370001\n",
       "26    0.73   0.273405\n",
       "27    1.50   0.759946\n",
       "28    0.00   0.528129\n",
       "29    0.00   0.233873"
      ]
     },
     "execution_count": 37,
     "metadata": {},
     "output_type": "execute_result"
    }
   ],
   "source": [
    "# Create a dataframe comparing the real and predicted values of y\n",
    "data = pd.DataFrame({'Actual': y_test.flatten(), 'Predicted': y_predicted.flatten()})\n",
    "data.head(30)"
   ]
  },
  {
   "cell_type": "markdown",
   "id": "be6c5e0f",
   "metadata": {},
   "source": [
    "### 13. Thoughts on how well the model performed on the test set"
   ]
  },
  {
   "cell_type": "markdown",
   "id": "13e3319f",
   "metadata": {},
   "source": [
    "The performance was consistent with previous findings and analysis on this data.  The variables have relationships as a part of each other (electric + non-electric = total vehicles).  Other data, such as purchase price of vehicle, new or used, rural or urban, etc. would have all made a well-rounded and phenomenally interesting dataset to analyze.  These tasks have been extremely valuable in understanding how to analyze data such as this in various circumstances.  \n",
    "\n",
    "No bias' exist in this dataset."
   ]
  },
  {
   "cell_type": "code",
   "execution_count": 38,
   "id": "0d5408b6",
   "metadata": {},
   "outputs": [],
   "source": [
    "df_cars_WA.to_csv(os.path.join(path, '02 Data', 'Prepared Data', 'cars_WA.csv'))"
   ]
  },
  {
   "cell_type": "code",
   "execution_count": 39,
   "id": "da7e2e68",
   "metadata": {},
   "outputs": [],
   "source": [
    "df_cars_out.to_csv(os.path.join(path, '02 Data', 'Prepared Data', 'cars_outside.csv'))"
   ]
  },
  {
   "cell_type": "code",
   "execution_count": null,
   "id": "a1b69840",
   "metadata": {},
   "outputs": [],
   "source": []
  }
 ],
 "metadata": {
  "kernelspec": {
   "display_name": "Python 3 (ipykernel)",
   "language": "python",
   "name": "python3"
  },
  "language_info": {
   "codemirror_mode": {
    "name": "ipython",
    "version": 3
   },
   "file_extension": ".py",
   "mimetype": "text/x-python",
   "name": "python",
   "nbconvert_exporter": "python",
   "pygments_lexer": "ipython3",
   "version": "3.10.9"
  }
 },
 "nbformat": 4,
 "nbformat_minor": 5
}
